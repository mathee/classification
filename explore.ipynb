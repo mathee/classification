{
 "cells": [
  {
   "cell_type": "code",
   "execution_count": 1,
   "metadata": {},
   "outputs": [],
   "source": [
    "import pandas as pd\n",
    "import seaborn as sns\n",
    "import matplotlib.pyplot as plt\n",
    "import preprocess_train as p\n",
    "from sklearn.decomposition import PCA"
   ]
  },
  {
   "cell_type": "code",
   "execution_count": 2,
   "metadata": {},
   "outputs": [],
   "source": [
    "iter_csv = pd.read_csv('data/train.csv', iterator=True, chunksize=20000)\n",
    "#df = pd.concat([chunk[chunk['field'] > constant] for chunk in iter_csv])"
   ]
  },
  {
   "cell_type": "code",
   "execution_count": 3,
   "metadata": {},
   "outputs": [
    {
     "name": "stderr",
     "output_type": "stream",
     "text": [
      "C:\\Users\\Matthias\\AppData\\Local\\conda\\conda\\envs\\dl\\lib\\site-packages\\IPython\\core\\interactiveshell.py:3020: DtypeWarning: Columns (28) have mixed types. Specify dtype option on import or set low_memory=False.\n",
      "  interactivity=interactivity, compiler=compiler, result=result)\n"
     ]
    }
   ],
   "source": [
    "df = next(iter_csv)"
   ]
  },
  {
   "cell_type": "code",
   "execution_count": 33,
   "metadata": {},
   "outputs": [
    {
     "data": {
      "text/html": [
       "<div>\n",
       "<style scoped>\n",
       "    .dataframe tbody tr th:only-of-type {\n",
       "        vertical-align: middle;\n",
       "    }\n",
       "\n",
       "    .dataframe tbody tr th {\n",
       "        vertical-align: top;\n",
       "    }\n",
       "\n",
       "    .dataframe thead th {\n",
       "        text-align: right;\n",
       "    }\n",
       "</style>\n",
       "<table border=\"1\" class=\"dataframe\">\n",
       "  <thead>\n",
       "    <tr style=\"text-align: right;\">\n",
       "      <th></th>\n",
       "      <th>HasDetections</th>\n",
       "    </tr>\n",
       "    <tr>\n",
       "      <th>HasDetections</th>\n",
       "      <th></th>\n",
       "    </tr>\n",
       "  </thead>\n",
       "  <tbody>\n",
       "    <tr>\n",
       "      <th>0</th>\n",
       "      <td>9980</td>\n",
       "    </tr>\n",
       "    <tr>\n",
       "      <th>1</th>\n",
       "      <td>10020</td>\n",
       "    </tr>\n",
       "  </tbody>\n",
       "</table>\n",
       "</div>"
      ],
      "text/plain": [
       "               HasDetections\n",
       "HasDetections               \n",
       "0                       9980\n",
       "1                      10020"
      ]
     },
     "execution_count": 33,
     "metadata": {},
     "output_type": "execute_result"
    }
   ],
   "source": [
    "# checking class balance\n",
    "Y_COLUMN = [\"HasDetections\"]\n",
    "colname = Y_COLUMN[0]\n",
    "\n",
    "df.HasDetections.unique()\n",
    "#check smallest class:\n",
    "df[Y_COLUMN].groupby(Y_COLUMN)[Y_COLUMN].count()\n",
    "\n",
    "#\n",
    "#data.groupby(['col1', 'col2'])['col3'].mean()"
   ]
  },
  {
   "cell_type": "code",
   "execution_count": 27,
   "metadata": {},
   "outputs": [],
   "source": [
    "#df.head(5)"
   ]
  },
  {
   "cell_type": "markdown",
   "metadata": {},
   "source": [
    "# delete columns with not enough values"
   ]
  },
  {
   "cell_type": "code",
   "execution_count": 28,
   "metadata": {},
   "outputs": [
    {
     "name": "stdout",
     "output_type": "stream",
     "text": [
      "DELETED COLUMNS WITH TOO LESS VALUES: <class 'pandas.core.frame.DataFrame'> - (20000, 74)\n",
      "\n"
     ]
    }
   ],
   "source": [
    "# delete columns that have not enough values, aka less than 75% of total # of rows\n",
    "dft = p.delete_sparse_columns(df, p=0.75)"
   ]
  },
  {
   "cell_type": "code",
   "execution_count": 31,
   "metadata": {},
   "outputs": [
    {
     "data": {
      "text/html": [
       "<div>\n",
       "<style scoped>\n",
       "    .dataframe tbody tr th:only-of-type {\n",
       "        vertical-align: middle;\n",
       "    }\n",
       "\n",
       "    .dataframe tbody tr th {\n",
       "        vertical-align: top;\n",
       "    }\n",
       "\n",
       "    .dataframe thead th {\n",
       "        text-align: right;\n",
       "    }\n",
       "</style>\n",
       "<table border=\"1\" class=\"dataframe\">\n",
       "  <thead>\n",
       "    <tr style=\"text-align: right;\">\n",
       "      <th></th>\n",
       "      <th>IsBeta</th>\n",
       "      <th>RtpStateBitfield</th>\n",
       "      <th>IsSxsPassiveMode</th>\n",
       "      <th>AVProductStatesIdentifier</th>\n",
       "      <th>AVProductsInstalled</th>\n",
       "      <th>AVProductsEnabled</th>\n",
       "      <th>HasTpm</th>\n",
       "      <th>CountryIdentifier</th>\n",
       "      <th>CityIdentifier</th>\n",
       "      <th>GeoNameIdentifier</th>\n",
       "      <th>...</th>\n",
       "      <th>Census_FirmwareManufacturerIdentifier</th>\n",
       "      <th>Census_FirmwareVersionIdentifier</th>\n",
       "      <th>Census_IsSecureBootEnabled</th>\n",
       "      <th>Census_IsVirtualDevice</th>\n",
       "      <th>Census_IsTouchEnabled</th>\n",
       "      <th>Census_IsPenCapable</th>\n",
       "      <th>Census_IsAlwaysOnAlwaysConnectedCapable</th>\n",
       "      <th>Wdft_IsGamer</th>\n",
       "      <th>Wdft_RegionIdentifier</th>\n",
       "      <th>HasDetections</th>\n",
       "    </tr>\n",
       "  </thead>\n",
       "  <tbody>\n",
       "    <tr>\n",
       "      <th>count</th>\n",
       "      <td>20000.0</td>\n",
       "      <td>19929.000000</td>\n",
       "      <td>20000.000000</td>\n",
       "      <td>19917.000000</td>\n",
       "      <td>19917.000000</td>\n",
       "      <td>19917.000000</td>\n",
       "      <td>20000.000000</td>\n",
       "      <td>20000.000000</td>\n",
       "      <td>19260.000000</td>\n",
       "      <td>20000.000000</td>\n",
       "      <td>...</td>\n",
       "      <td>19581.000000</td>\n",
       "      <td>19627.000000</td>\n",
       "      <td>20000.000000</td>\n",
       "      <td>19967.000000</td>\n",
       "      <td>20000.00000</td>\n",
       "      <td>20000.000000</td>\n",
       "      <td>19837.000000</td>\n",
       "      <td>19350.000000</td>\n",
       "      <td>19350.000000</td>\n",
       "      <td>20000.000000</td>\n",
       "    </tr>\n",
       "    <tr>\n",
       "      <th>mean</th>\n",
       "      <td>0.0</td>\n",
       "      <td>6.853731</td>\n",
       "      <td>0.016000</td>\n",
       "      <td>47865.443290</td>\n",
       "      <td>1.320982</td>\n",
       "      <td>1.019481</td>\n",
       "      <td>0.988200</td>\n",
       "      <td>108.669600</td>\n",
       "      <td>81445.604517</td>\n",
       "      <td>170.097800</td>\n",
       "      <td>...</td>\n",
       "      <td>399.675910</td>\n",
       "      <td>32837.969277</td>\n",
       "      <td>0.485800</td>\n",
       "      <td>0.006761</td>\n",
       "      <td>0.12465</td>\n",
       "      <td>0.038000</td>\n",
       "      <td>0.057015</td>\n",
       "      <td>0.279225</td>\n",
       "      <td>7.840413</td>\n",
       "      <td>0.501000</td>\n",
       "    </tr>\n",
       "    <tr>\n",
       "      <th>std</th>\n",
       "      <td>0.0</td>\n",
       "      <td>0.996447</td>\n",
       "      <td>0.125478</td>\n",
       "      <td>13992.590881</td>\n",
       "      <td>0.518340</td>\n",
       "      <td>0.164119</td>\n",
       "      <td>0.107988</td>\n",
       "      <td>62.867544</td>\n",
       "      <td>48985.435340</td>\n",
       "      <td>88.905986</td>\n",
       "      <td>...</td>\n",
       "      <td>221.553863</td>\n",
       "      <td>21156.270985</td>\n",
       "      <td>0.499811</td>\n",
       "      <td>0.081950</td>\n",
       "      <td>0.33033</td>\n",
       "      <td>0.191201</td>\n",
       "      <td>0.231876</td>\n",
       "      <td>0.448630</td>\n",
       "      <td>4.570912</td>\n",
       "      <td>0.500012</td>\n",
       "    </tr>\n",
       "    <tr>\n",
       "      <th>min</th>\n",
       "      <td>0.0</td>\n",
       "      <td>0.000000</td>\n",
       "      <td>0.000000</td>\n",
       "      <td>39.000000</td>\n",
       "      <td>1.000000</td>\n",
       "      <td>0.000000</td>\n",
       "      <td>0.000000</td>\n",
       "      <td>1.000000</td>\n",
       "      <td>41.000000</td>\n",
       "      <td>1.000000</td>\n",
       "      <td>...</td>\n",
       "      <td>17.000000</td>\n",
       "      <td>19.000000</td>\n",
       "      <td>0.000000</td>\n",
       "      <td>0.000000</td>\n",
       "      <td>0.00000</td>\n",
       "      <td>0.000000</td>\n",
       "      <td>0.000000</td>\n",
       "      <td>0.000000</td>\n",
       "      <td>1.000000</td>\n",
       "      <td>0.000000</td>\n",
       "    </tr>\n",
       "    <tr>\n",
       "      <th>25%</th>\n",
       "      <td>0.0</td>\n",
       "      <td>7.000000</td>\n",
       "      <td>0.000000</td>\n",
       "      <td>49480.000000</td>\n",
       "      <td>1.000000</td>\n",
       "      <td>1.000000</td>\n",
       "      <td>1.000000</td>\n",
       "      <td>51.000000</td>\n",
       "      <td>36825.000000</td>\n",
       "      <td>89.000000</td>\n",
       "      <td>...</td>\n",
       "      <td>142.000000</td>\n",
       "      <td>12951.000000</td>\n",
       "      <td>0.000000</td>\n",
       "      <td>0.000000</td>\n",
       "      <td>0.00000</td>\n",
       "      <td>0.000000</td>\n",
       "      <td>0.000000</td>\n",
       "      <td>0.000000</td>\n",
       "      <td>3.000000</td>\n",
       "      <td>0.000000</td>\n",
       "    </tr>\n",
       "    <tr>\n",
       "      <th>50%</th>\n",
       "      <td>0.0</td>\n",
       "      <td>7.000000</td>\n",
       "      <td>0.000000</td>\n",
       "      <td>53447.000000</td>\n",
       "      <td>1.000000</td>\n",
       "      <td>1.000000</td>\n",
       "      <td>1.000000</td>\n",
       "      <td>97.000000</td>\n",
       "      <td>82373.000000</td>\n",
       "      <td>181.000000</td>\n",
       "      <td>...</td>\n",
       "      <td>500.000000</td>\n",
       "      <td>33066.000000</td>\n",
       "      <td>0.000000</td>\n",
       "      <td>0.000000</td>\n",
       "      <td>0.00000</td>\n",
       "      <td>0.000000</td>\n",
       "      <td>0.000000</td>\n",
       "      <td>0.000000</td>\n",
       "      <td>10.000000</td>\n",
       "      <td>1.000000</td>\n",
       "    </tr>\n",
       "    <tr>\n",
       "      <th>75%</th>\n",
       "      <td>0.0</td>\n",
       "      <td>7.000000</td>\n",
       "      <td>0.000000</td>\n",
       "      <td>53447.000000</td>\n",
       "      <td>2.000000</td>\n",
       "      <td>1.000000</td>\n",
       "      <td>1.000000</td>\n",
       "      <td>162.000000</td>\n",
       "      <td>124633.000000</td>\n",
       "      <td>264.000000</td>\n",
       "      <td>...</td>\n",
       "      <td>556.000000</td>\n",
       "      <td>52369.000000</td>\n",
       "      <td>1.000000</td>\n",
       "      <td>0.000000</td>\n",
       "      <td>0.00000</td>\n",
       "      <td>0.000000</td>\n",
       "      <td>0.000000</td>\n",
       "      <td>1.000000</td>\n",
       "      <td>11.000000</td>\n",
       "      <td>1.000000</td>\n",
       "    </tr>\n",
       "    <tr>\n",
       "      <th>max</th>\n",
       "      <td>0.0</td>\n",
       "      <td>8.000000</td>\n",
       "      <td>1.000000</td>\n",
       "      <td>70262.000000</td>\n",
       "      <td>5.000000</td>\n",
       "      <td>4.000000</td>\n",
       "      <td>1.000000</td>\n",
       "      <td>222.000000</td>\n",
       "      <td>167907.000000</td>\n",
       "      <td>295.000000</td>\n",
       "      <td>...</td>\n",
       "      <td>1081.000000</td>\n",
       "      <td>72074.000000</td>\n",
       "      <td>1.000000</td>\n",
       "      <td>1.000000</td>\n",
       "      <td>1.00000</td>\n",
       "      <td>1.000000</td>\n",
       "      <td>1.000000</td>\n",
       "      <td>1.000000</td>\n",
       "      <td>15.000000</td>\n",
       "      <td>1.000000</td>\n",
       "    </tr>\n",
       "  </tbody>\n",
       "</table>\n",
       "<p>8 rows × 48 columns</p>\n",
       "</div>"
      ],
      "text/plain": [
       "        IsBeta  RtpStateBitfield  IsSxsPassiveMode  AVProductStatesIdentifier  \\\n",
       "count  20000.0      19929.000000      20000.000000               19917.000000   \n",
       "mean       0.0          6.853731          0.016000               47865.443290   \n",
       "std        0.0          0.996447          0.125478               13992.590881   \n",
       "min        0.0          0.000000          0.000000                  39.000000   \n",
       "25%        0.0          7.000000          0.000000               49480.000000   \n",
       "50%        0.0          7.000000          0.000000               53447.000000   \n",
       "75%        0.0          7.000000          0.000000               53447.000000   \n",
       "max        0.0          8.000000          1.000000               70262.000000   \n",
       "\n",
       "       AVProductsInstalled  AVProductsEnabled        HasTpm  \\\n",
       "count         19917.000000       19917.000000  20000.000000   \n",
       "mean              1.320982           1.019481      0.988200   \n",
       "std               0.518340           0.164119      0.107988   \n",
       "min               1.000000           0.000000      0.000000   \n",
       "25%               1.000000           1.000000      1.000000   \n",
       "50%               1.000000           1.000000      1.000000   \n",
       "75%               2.000000           1.000000      1.000000   \n",
       "max               5.000000           4.000000      1.000000   \n",
       "\n",
       "       CountryIdentifier  CityIdentifier  GeoNameIdentifier      ...        \\\n",
       "count       20000.000000    19260.000000       20000.000000      ...         \n",
       "mean          108.669600    81445.604517         170.097800      ...         \n",
       "std            62.867544    48985.435340          88.905986      ...         \n",
       "min             1.000000       41.000000           1.000000      ...         \n",
       "25%            51.000000    36825.000000          89.000000      ...         \n",
       "50%            97.000000    82373.000000         181.000000      ...         \n",
       "75%           162.000000   124633.000000         264.000000      ...         \n",
       "max           222.000000   167907.000000         295.000000      ...         \n",
       "\n",
       "       Census_FirmwareManufacturerIdentifier  \\\n",
       "count                           19581.000000   \n",
       "mean                              399.675910   \n",
       "std                               221.553863   \n",
       "min                                17.000000   \n",
       "25%                               142.000000   \n",
       "50%                               500.000000   \n",
       "75%                               556.000000   \n",
       "max                              1081.000000   \n",
       "\n",
       "       Census_FirmwareVersionIdentifier  Census_IsSecureBootEnabled  \\\n",
       "count                      19627.000000                20000.000000   \n",
       "mean                       32837.969277                    0.485800   \n",
       "std                        21156.270985                    0.499811   \n",
       "min                           19.000000                    0.000000   \n",
       "25%                        12951.000000                    0.000000   \n",
       "50%                        33066.000000                    0.000000   \n",
       "75%                        52369.000000                    1.000000   \n",
       "max                        72074.000000                    1.000000   \n",
       "\n",
       "       Census_IsVirtualDevice  Census_IsTouchEnabled  Census_IsPenCapable  \\\n",
       "count            19967.000000            20000.00000         20000.000000   \n",
       "mean                 0.006761                0.12465             0.038000   \n",
       "std                  0.081950                0.33033             0.191201   \n",
       "min                  0.000000                0.00000             0.000000   \n",
       "25%                  0.000000                0.00000             0.000000   \n",
       "50%                  0.000000                0.00000             0.000000   \n",
       "75%                  0.000000                0.00000             0.000000   \n",
       "max                  1.000000                1.00000             1.000000   \n",
       "\n",
       "       Census_IsAlwaysOnAlwaysConnectedCapable  Wdft_IsGamer  \\\n",
       "count                             19837.000000  19350.000000   \n",
       "mean                                  0.057015      0.279225   \n",
       "std                                   0.231876      0.448630   \n",
       "min                                   0.000000      0.000000   \n",
       "25%                                   0.000000      0.000000   \n",
       "50%                                   0.000000      0.000000   \n",
       "75%                                   0.000000      1.000000   \n",
       "max                                   1.000000      1.000000   \n",
       "\n",
       "       Wdft_RegionIdentifier  HasDetections  \n",
       "count           19350.000000   20000.000000  \n",
       "mean                7.840413       0.501000  \n",
       "std                 4.570912       0.500012  \n",
       "min                 1.000000       0.000000  \n",
       "25%                 3.000000       0.000000  \n",
       "50%                10.000000       1.000000  \n",
       "75%                11.000000       1.000000  \n",
       "max                15.000000       1.000000  \n",
       "\n",
       "[8 rows x 48 columns]"
      ]
     },
     "execution_count": 31,
     "metadata": {},
     "output_type": "execute_result"
    }
   ],
   "source": [
    "df.describe()"
   ]
  },
  {
   "cell_type": "markdown",
   "metadata": {},
   "source": [
    "# analyze outliers"
   ]
  },
  {
   "cell_type": "markdown",
   "metadata": {},
   "source": [
    "### clipping"
   ]
  },
  {
   "cell_type": "code",
   "execution_count": 40,
   "metadata": {},
   "outputs": [
    {
     "data": {
      "text/plain": [
       "164345.05472"
      ]
     },
     "execution_count": 40,
     "metadata": {},
     "output_type": "execute_result"
    }
   ],
   "source": [
    "col = \"CityIdentifier\"\n",
    "minPercentile = 0.02\n",
    "maxPercentile = 0.98\n",
    "q = df[\"CityIdentifier\"].quantile(maxPercentile)\n",
    "q"
   ]
  },
  {
   "cell_type": "code",
   "execution_count": 39,
   "metadata": {},
   "outputs": [],
   "source": [
    "# clipping function for one column\n",
    "df[col] = df[col].clip((df[col].quantile(minPercentile)),(df[col].quantile(maxPercentile)))"
   ]
  },
  {
   "cell_type": "code",
   "execution_count": 42,
   "metadata": {},
   "outputs": [
    {
     "data": {
      "text/plain": [
       "(20000, 74)"
      ]
     },
     "execution_count": 42,
     "metadata": {},
     "output_type": "execute_result"
    }
   ],
   "source": [
    "df.shape"
   ]
  },
  {
   "cell_type": "markdown",
   "metadata": {},
   "source": [
    "### Z-score"
   ]
  },
  {
   "cell_type": "code",
   "execution_count": 59,
   "metadata": {},
   "outputs": [
    {
     "name": "stdout",
     "output_type": "stream",
     "text": [
      "FACTORIZATION ENCODING: <class 'pandas.core.frame.DataFrame'> - (20000, 83)\n",
      "\n"
     ]
    }
   ],
   "source": [
    "df = p.factorization_encoding(df)"
   ]
  },
  {
   "cell_type": "code",
   "execution_count": 78,
   "metadata": {},
   "outputs": [
    {
     "name": "stderr",
     "output_type": "stream",
     "text": [
      "C:\\ProgramData\\Anaconda3\\lib\\site-packages\\scipy\\stats\\stats.py:2253: RuntimeWarning: invalid value encountered in true_divide\n",
      "  return (a - mns) / sstd\n",
      "C:\\ProgramData\\Anaconda3\\lib\\site-packages\\ipykernel_launcher.py:1: RuntimeWarning: invalid value encountered in less\n",
      "  \"\"\"Entry point for launching an IPython kernel.\n"
     ]
    },
    {
     "data": {
      "text/plain": [
       "array([False, False, False, ..., False, False, False])"
      ]
     },
     "execution_count": 78,
     "metadata": {},
     "output_type": "execute_result"
    }
   ],
   "source": [
    "np.abs(stats.zscore(df) < 3).all(axis = 1)"
   ]
  },
  {
   "cell_type": "code",
   "execution_count": 55,
   "metadata": {},
   "outputs": [
    {
     "name": "stderr",
     "output_type": "stream",
     "text": [
      "C:\\ProgramData\\Anaconda3\\lib\\site-packages\\scipy\\stats\\stats.py:2253: RuntimeWarning: invalid value encountered in true_divide\n",
      "  return (a - mns) / sstd\n",
      "C:\\ProgramData\\Anaconda3\\lib\\site-packages\\ipykernel_launcher.py:3: RuntimeWarning: invalid value encountered in less\n",
      "  This is separate from the ipykernel package so we can avoid doing imports until\n"
     ]
    },
    {
     "data": {
      "text/html": [
       "<div>\n",
       "<style scoped>\n",
       "    .dataframe tbody tr th:only-of-type {\n",
       "        vertical-align: middle;\n",
       "    }\n",
       "\n",
       "    .dataframe tbody tr th {\n",
       "        vertical-align: top;\n",
       "    }\n",
       "\n",
       "    .dataframe thead th {\n",
       "        text-align: right;\n",
       "    }\n",
       "</style>\n",
       "<table border=\"1\" class=\"dataframe\">\n",
       "  <thead>\n",
       "    <tr style=\"text-align: right;\">\n",
       "      <th></th>\n",
       "      <th>MachineIdentifier</th>\n",
       "      <th>ProductName</th>\n",
       "      <th>EngineVersion</th>\n",
       "      <th>AppVersion</th>\n",
       "      <th>AvSigVersion</th>\n",
       "      <th>IsBeta</th>\n",
       "      <th>RtpStateBitfield</th>\n",
       "      <th>IsSxsPassiveMode</th>\n",
       "      <th>AVProductStatesIdentifier</th>\n",
       "      <th>AVProductsInstalled</th>\n",
       "      <th>...</th>\n",
       "      <th>Census_FirmwareManufacturerIdentifier</th>\n",
       "      <th>Census_FirmwareVersionIdentifier</th>\n",
       "      <th>Census_IsSecureBootEnabled</th>\n",
       "      <th>Census_IsVirtualDevice</th>\n",
       "      <th>Census_IsTouchEnabled</th>\n",
       "      <th>Census_IsPenCapable</th>\n",
       "      <th>Census_IsAlwaysOnAlwaysConnectedCapable</th>\n",
       "      <th>Wdft_IsGamer</th>\n",
       "      <th>Wdft_RegionIdentifier</th>\n",
       "      <th>HasDetections</th>\n",
       "    </tr>\n",
       "  </thead>\n",
       "  <tbody>\n",
       "  </tbody>\n",
       "</table>\n",
       "<p>0 rows × 74 columns</p>\n",
       "</div>"
      ],
      "text/plain": [
       "Empty DataFrame\n",
       "Columns: [MachineIdentifier, ProductName, EngineVersion, AppVersion, AvSigVersion, IsBeta, RtpStateBitfield, IsSxsPassiveMode, AVProductStatesIdentifier, AVProductsInstalled, AVProductsEnabled, HasTpm, CountryIdentifier, CityIdentifier, GeoNameIdentifier, LocaleEnglishNameIdentifier, Platform, Processor, OsVer, OsBuild, OsSuite, OsPlatformSubRelease, OsBuildLab, SkuEdition, IsProtected, AutoSampleOptIn, SMode, IeVerIdentifier, Firewall, UacLuaenable, Census_MDC2FormFactor, Census_DeviceFamily, Census_OEMNameIdentifier, Census_OEMModelIdentifier, Census_ProcessorCoreCount, Census_ProcessorManufacturerIdentifier, Census_ProcessorModelIdentifier, Census_PrimaryDiskTotalCapacity, Census_PrimaryDiskTypeName, Census_SystemVolumeTotalCapacity, Census_HasOpticalDiskDrive, Census_TotalPhysicalRAM, Census_ChassisTypeName, Census_InternalPrimaryDiagonalDisplaySizeInInches, Census_InternalPrimaryDisplayResolutionHorizontal, Census_InternalPrimaryDisplayResolutionVertical, Census_PowerPlatformRoleName, Census_InternalBatteryNumberOfCharges, Census_OSVersion, Census_OSArchitecture, Census_OSBranch, Census_OSBuildNumber, Census_OSBuildRevision, Census_OSEdition, Census_OSSkuName, Census_OSInstallTypeName, Census_OSInstallLanguageIdentifier, Census_OSUILocaleIdentifier, Census_OSWUAutoUpdateOptionsName, Census_IsPortableOperatingSystem, Census_GenuineStateName, Census_ActivationChannel, Census_IsFlightsDisabled, Census_FlightRing, Census_FirmwareManufacturerIdentifier, Census_FirmwareVersionIdentifier, Census_IsSecureBootEnabled, Census_IsVirtualDevice, Census_IsTouchEnabled, Census_IsPenCapable, Census_IsAlwaysOnAlwaysConnectedCapable, Wdft_IsGamer, Wdft_RegionIdentifier, HasDetections]\n",
       "Index: []\n",
       "\n",
       "[0 rows x 74 columns]"
      ]
     },
     "execution_count": 55,
     "metadata": {},
     "output_type": "execute_result"
    }
   ],
   "source": [
    "from scipy import stats\n",
    "import numpy as np\n",
    "df[(np.abs(stats.zscore(df)) < 3).all(axis=1)]\n"
   ]
  },
  {
   "cell_type": "code",
   "execution_count": 134,
   "metadata": {},
   "outputs": [
    {
     "name": "stdout",
     "output_type": "stream",
     "text": [
      "FACTORIZATION ENCODING: <class 'pandas.core.frame.DataFrame'> - (20000, 4)\n",
      "\n",
      "<class 'pandas.core.frame.DataFrame'>\n",
      "RangeIndex: 20000 entries, 40000 to 59999\n",
      "Data columns (total 4 columns):\n",
      "AVProductsInstalled          20000 non-null float64\n",
      "AVProductStatesIdentifier    20000 non-null float64\n",
      "HasDetections                20000 non-null float64\n",
      "IsBeta                       20000 non-null float64\n",
      "dtypes: float64(4)\n",
      "memory usage: 625.1 KB\n"
     ]
    },
    {
     "name": "stderr",
     "output_type": "stream",
     "text": [
      "D:\\datascience\\projects\\ml_pipeline\\preprocess_train.py:65: SettingWithCopyWarning: \n",
      "A value is trying to be set on a copy of a slice from a DataFrame.\n",
      "Try using .loc[row_indexer,col_indexer] = value instead\n",
      "\n",
      "See the caveats in the documentation: http://pandas.pydata.org/pandas-docs/stable/indexing.html#indexing-view-versus-copy\n",
      "  imp.fit(columndata)\n",
      "D:\\datascience\\projects\\ml_pipeline\\preprocess_train.py:65: SettingWithCopyWarning: \n",
      "A value is trying to be set on a copy of a slice from a DataFrame.\n",
      "Try using .loc[row_indexer,col_indexer] = value instead\n",
      "\n",
      "See the caveats in the documentation: http://pandas.pydata.org/pandas-docs/stable/indexing.html#indexing-view-versus-copy\n",
      "  imp.fit(columndata)\n",
      "D:\\datascience\\projects\\ml_pipeline\\preprocess_train.py:65: SettingWithCopyWarning: \n",
      "A value is trying to be set on a copy of a slice from a DataFrame.\n",
      "Try using .loc[row_indexer,col_indexer] = value instead\n",
      "\n",
      "See the caveats in the documentation: http://pandas.pydata.org/pandas-docs/stable/indexing.html#indexing-view-versus-copy\n",
      "  imp.fit(columndata)\n",
      "D:\\datascience\\projects\\ml_pipeline\\preprocess_train.py:65: SettingWithCopyWarning: \n",
      "A value is trying to be set on a copy of a slice from a DataFrame.\n",
      "Try using .loc[row_indexer,col_indexer] = value instead\n",
      "\n",
      "See the caveats in the documentation: http://pandas.pydata.org/pandas-docs/stable/indexing.html#indexing-view-versus-copy\n",
      "  imp.fit(columndata)\n"
     ]
    }
   ],
   "source": [
    "#df = pd.DataFrame(np.random.randn(100, 3))\n",
    "df2 = df[[\"HasDetections\",\"IsBeta\",\"AVProductStatesIdentifier\"]]\n",
    "df2 = df[[\"AVProductsInstalled\", \"AVProductStatesIdentifier\",\"HasDetections\", \"IsBeta\"]]\n",
    "df2 = p.factorization_encoding(df2)\n",
    "df2 = p.impute_numerical_NaNs(df2, \"mean\")\n",
    "df2.shape\n",
    "df2.info()"
   ]
  },
  {
   "cell_type": "code",
   "execution_count": 135,
   "metadata": {},
   "outputs": [
    {
     "name": "stderr",
     "output_type": "stream",
     "text": [
      "C:\\ProgramData\\Anaconda3\\lib\\site-packages\\scipy\\stats\\stats.py:2253: RuntimeWarning: invalid value encountered in true_divide\n",
      "  return (a - mns) / sstd\n",
      "C:\\ProgramData\\Anaconda3\\lib\\site-packages\\ipykernel_launcher.py:1: RuntimeWarning: invalid value encountered in less\n",
      "  \"\"\"Entry point for launching an IPython kernel.\n"
     ]
    },
    {
     "data": {
      "text/plain": [
       "(0, 4)"
      ]
     },
     "execution_count": 135,
     "metadata": {},
     "output_type": "execute_result"
    }
   ],
   "source": [
    "df2[(np.abs(stats.zscore(df2)) < 3).all(axis=1)].shape"
   ]
  },
  {
   "cell_type": "code",
   "execution_count": 106,
   "metadata": {},
   "outputs": [
    {
     "data": {
      "text/plain": [
       "(20000, 3)"
      ]
     },
     "execution_count": 106,
     "metadata": {},
     "output_type": "execute_result"
    }
   ],
   "source": [
    "df2.shape"
   ]
  },
  {
   "cell_type": "code",
   "execution_count": 121,
   "metadata": {},
   "outputs": [
    {
     "name": "stdout",
     "output_type": "stream",
     "text": [
      "<class 'pandas.core.frame.DataFrame'>\n",
      "RangeIndex: 100 entries, 0 to 99\n",
      "Data columns (total 3 columns):\n",
      "0    100 non-null float64\n",
      "1    100 non-null float64\n",
      "2    100 non-null float64\n",
      "dtypes: float64(3)\n",
      "memory usage: 2.4 KB\n"
     ]
    }
   ],
   "source": [
    "df3 = pd.DataFrame(np.random.randn(100, 3))\n",
    "df3.info()"
   ]
  },
  {
   "cell_type": "code",
   "execution_count": 124,
   "metadata": {},
   "outputs": [
    {
     "data": {
      "text/plain": [
       "(100, 3)"
      ]
     },
     "execution_count": 124,
     "metadata": {},
     "output_type": "execute_result"
    }
   ],
   "source": [
    "df3[(np.abs(stats.zscore(df3)) < 3).all(axis=1)].shape"
   ]
  },
  {
   "cell_type": "markdown",
   "metadata": {},
   "source": [
    "# Analyzing numerical features"
   ]
  },
  {
   "cell_type": "code",
   "execution_count": 29,
   "metadata": {},
   "outputs": [
    {
     "data": {
      "text/html": [
       "<div>\n",
       "<style scoped>\n",
       "    .dataframe tbody tr th:only-of-type {\n",
       "        vertical-align: middle;\n",
       "    }\n",
       "\n",
       "    .dataframe tbody tr th {\n",
       "        vertical-align: top;\n",
       "    }\n",
       "\n",
       "    .dataframe thead th {\n",
       "        text-align: right;\n",
       "    }\n",
       "</style>\n",
       "<table border=\"1\" class=\"dataframe\">\n",
       "  <thead>\n",
       "    <tr style=\"text-align: right;\">\n",
       "      <th></th>\n",
       "      <th>IsBeta</th>\n",
       "      <th>RtpStateBitfield</th>\n",
       "      <th>IsSxsPassiveMode</th>\n",
       "      <th>AVProductStatesIdentifier</th>\n",
       "      <th>AVProductsInstalled</th>\n",
       "      <th>AVProductsEnabled</th>\n",
       "      <th>HasTpm</th>\n",
       "      <th>CountryIdentifier</th>\n",
       "      <th>CityIdentifier</th>\n",
       "      <th>GeoNameIdentifier</th>\n",
       "      <th>...</th>\n",
       "      <th>Census_IsFlightsDisabled</th>\n",
       "      <th>Census_FirmwareManufacturerIdentifier</th>\n",
       "      <th>Census_FirmwareVersionIdentifier</th>\n",
       "      <th>Census_IsSecureBootEnabled</th>\n",
       "      <th>Census_IsVirtualDevice</th>\n",
       "      <th>Census_IsTouchEnabled</th>\n",
       "      <th>Census_IsPenCapable</th>\n",
       "      <th>Census_IsAlwaysOnAlwaysConnectedCapable</th>\n",
       "      <th>Wdft_IsGamer</th>\n",
       "      <th>Wdft_RegionIdentifier</th>\n",
       "    </tr>\n",
       "    <tr>\n",
       "      <th>HasDetections</th>\n",
       "      <th></th>\n",
       "      <th></th>\n",
       "      <th></th>\n",
       "      <th></th>\n",
       "      <th></th>\n",
       "      <th></th>\n",
       "      <th></th>\n",
       "      <th></th>\n",
       "      <th></th>\n",
       "      <th></th>\n",
       "      <th></th>\n",
       "      <th></th>\n",
       "      <th></th>\n",
       "      <th></th>\n",
       "      <th></th>\n",
       "      <th></th>\n",
       "      <th></th>\n",
       "      <th></th>\n",
       "      <th></th>\n",
       "      <th></th>\n",
       "      <th></th>\n",
       "    </tr>\n",
       "  </thead>\n",
       "  <tbody>\n",
       "    <tr>\n",
       "      <th>0</th>\n",
       "      <td>0.0</td>\n",
       "      <td>6.818758</td>\n",
       "      <td>0.018938</td>\n",
       "      <td>46276.995169</td>\n",
       "      <td>1.396678</td>\n",
       "      <td>1.025969</td>\n",
       "      <td>0.988477</td>\n",
       "      <td>107.923046</td>\n",
       "      <td>81814.993749</td>\n",
       "      <td>169.566333</td>\n",
       "      <td>...</td>\n",
       "      <td>0.0</td>\n",
       "      <td>404.262645</td>\n",
       "      <td>32841.403437</td>\n",
       "      <td>0.488677</td>\n",
       "      <td>0.011035</td>\n",
       "      <td>0.140681</td>\n",
       "      <td>0.038978</td>\n",
       "      <td>0.070434</td>\n",
       "      <td>0.256503</td>\n",
       "      <td>7.889244</td>\n",
       "    </tr>\n",
       "    <tr>\n",
       "      <th>1</th>\n",
       "      <td>0.0</td>\n",
       "      <td>6.888511</td>\n",
       "      <td>0.013074</td>\n",
       "      <td>49446.412242</td>\n",
       "      <td>1.245642</td>\n",
       "      <td>1.013023</td>\n",
       "      <td>0.987924</td>\n",
       "      <td>109.413174</td>\n",
       "      <td>81078.585861</td>\n",
       "      <td>170.627146</td>\n",
       "      <td>...</td>\n",
       "      <td>0.0</td>\n",
       "      <td>395.129754</td>\n",
       "      <td>32834.561263</td>\n",
       "      <td>0.482934</td>\n",
       "      <td>0.002500</td>\n",
       "      <td>0.108683</td>\n",
       "      <td>0.037026</td>\n",
       "      <td>0.043618</td>\n",
       "      <td>0.302008</td>\n",
       "      <td>7.791451</td>\n",
       "    </tr>\n",
       "  </tbody>\n",
       "</table>\n",
       "<p>2 rows × 47 columns</p>\n",
       "</div>"
      ],
      "text/plain": [
       "               IsBeta  RtpStateBitfield  IsSxsPassiveMode  \\\n",
       "HasDetections                                               \n",
       "0                 0.0          6.818758          0.018938   \n",
       "1                 0.0          6.888511          0.013074   \n",
       "\n",
       "               AVProductStatesIdentifier  AVProductsInstalled  \\\n",
       "HasDetections                                                   \n",
       "0                           46276.995169             1.396678   \n",
       "1                           49446.412242             1.245642   \n",
       "\n",
       "               AVProductsEnabled    HasTpm  CountryIdentifier  CityIdentifier  \\\n",
       "HasDetections                                                                   \n",
       "0                       1.025969  0.988477         107.923046    81814.993749   \n",
       "1                       1.013023  0.987924         109.413174    81078.585861   \n",
       "\n",
       "               GeoNameIdentifier          ...            \\\n",
       "HasDetections                             ...             \n",
       "0                     169.566333          ...             \n",
       "1                     170.627146          ...             \n",
       "\n",
       "               Census_IsFlightsDisabled  \\\n",
       "HasDetections                             \n",
       "0                                   0.0   \n",
       "1                                   0.0   \n",
       "\n",
       "               Census_FirmwareManufacturerIdentifier  \\\n",
       "HasDetections                                          \n",
       "0                                         404.262645   \n",
       "1                                         395.129754   \n",
       "\n",
       "               Census_FirmwareVersionIdentifier  Census_IsSecureBootEnabled  \\\n",
       "HasDetections                                                                 \n",
       "0                                  32841.403437                    0.488677   \n",
       "1                                  32834.561263                    0.482934   \n",
       "\n",
       "               Census_IsVirtualDevice  Census_IsTouchEnabled  \\\n",
       "HasDetections                                                  \n",
       "0                            0.011035               0.140681   \n",
       "1                            0.002500               0.108683   \n",
       "\n",
       "               Census_IsPenCapable  Census_IsAlwaysOnAlwaysConnectedCapable  \\\n",
       "HasDetections                                                                 \n",
       "0                         0.038978                                 0.070434   \n",
       "1                         0.037026                                 0.043618   \n",
       "\n",
       "               Wdft_IsGamer  Wdft_RegionIdentifier  \n",
       "HasDetections                                       \n",
       "0                  0.256503               7.889244  \n",
       "1                  0.302008               7.791451  \n",
       "\n",
       "[2 rows x 47 columns]"
      ]
     },
     "execution_count": 29,
     "metadata": {},
     "output_type": "execute_result"
    }
   ],
   "source": [
    "df.groupby(\"HasDetections\").mean()\n",
    "#---> make percentage of max-min from max --> relevance of the differences!"
   ]
  },
  {
   "cell_type": "code",
   "execution_count": 30,
   "metadata": {},
   "outputs": [
    {
     "data": {
      "text/plain": [
       "IsBeta                                               0.000000e+00\n",
       "RtpStateBitfield                                     4.932256e-02\n",
       "IsSxsPassiveMode                                     4.146491e-03\n",
       "AVProductStatesIdentifier                            2.241116e+03\n",
       "AVProductsInstalled                                  1.067988e-01\n",
       "AVProductsEnabled                                    9.153748e-03\n",
       "HasTpm                                               3.908902e-04\n",
       "CountryIdentifier                                    1.053679e+00\n",
       "CityIdentifier                                       5.207190e+02\n",
       "GeoNameIdentifier                                    7.501081e-01\n",
       "LocaleEnglishNameIdentifier                          2.460149e+00\n",
       "OsBuild                                              8.240077e+01\n",
       "OsSuite                                              1.327820e+01\n",
       "IsProtected                                          1.835588e-02\n",
       "AutoSampleOptIn                                      0.000000e+00\n",
       "SMode                                                4.575756e-04\n",
       "IeVerIdentifier                                      9.735039e-01\n",
       "Firewall                                             1.062201e-03\n",
       "UacLuaenable                                         3.007265e-04\n",
       "Census_OEMNameIdentifier                             2.794665e+01\n",
       "Census_OEMModelIdentifier                            7.867747e+02\n",
       "Census_ProcessorCoreCount                            1.418076e-01\n",
       "Census_ProcessorManufacturerIdentifier               1.345285e-03\n",
       "Census_ProcessorModelIdentifier                      1.727828e+01\n",
       "Census_PrimaryDiskTotalCapacity                      2.604611e+04\n",
       "Census_SystemVolumeTotalCapacity                     4.580834e+03\n",
       "Census_HasOpticalDiskDrive                           4.604981e-03\n",
       "Census_TotalPhysicalRAM                              3.972017e+02\n",
       "Census_InternalPrimaryDiagonalDisplaySizeInInches    2.912533e-01\n",
       "Census_InternalPrimaryDisplayResolutionHorizontal    1.479552e+01\n",
       "Census_InternalPrimaryDisplayResolutionVertical      5.525982e+00\n",
       "Census_InternalBatteryNumberOfCharges                7.967682e+07\n",
       "Census_OSBuildNumber                                 9.698977e+01\n",
       "Census_OSBuildRevision                               4.757603e+01\n",
       "Census_OSInstallLanguageIdentifier                   2.555392e-01\n",
       "Census_OSUILocaleIdentifier                          1.126908e+00\n",
       "Census_IsPortableOperatingSystem                     2.262751e-06\n",
       "Census_IsFlightsDisabled                             0.000000e+00\n",
       "Census_FirmwareManufacturerIdentifier                6.457929e+00\n",
       "Census_FirmwareVersionIdentifier                     4.838148e+00\n",
       "Census_IsSecureBootEnabled                           4.061072e-03\n",
       "Census_IsVirtualDevice                               6.035201e-03\n",
       "Census_IsTouchEnabled                                2.262652e-02\n",
       "Census_IsPenCapable                                  1.380278e-03\n",
       "Census_IsAlwaysOnAlwaysConnectedCapable              1.896142e-02\n",
       "Wdft_IsGamer                                         3.217688e-02\n",
       "Wdft_RegionIdentifier                                6.915036e-02\n",
       "dtype: float64"
      ]
     },
     "execution_count": 30,
     "metadata": {},
     "output_type": "execute_result"
    }
   ],
   "source": [
    "df.groupby(\"HasDetections\").mean().std()"
   ]
  },
  {
   "cell_type": "markdown",
   "metadata": {},
   "source": [
    "# create dummies"
   ]
  },
  {
   "cell_type": "code",
   "execution_count": 20,
   "metadata": {},
   "outputs": [
    {
     "data": {
      "text/html": [
       "<div>\n",
       "<style scoped>\n",
       "    .dataframe tbody tr th:only-of-type {\n",
       "        vertical-align: middle;\n",
       "    }\n",
       "\n",
       "    .dataframe tbody tr th {\n",
       "        vertical-align: top;\n",
       "    }\n",
       "\n",
       "    .dataframe thead th {\n",
       "        text-align: right;\n",
       "    }\n",
       "</style>\n",
       "<table border=\"1\" class=\"dataframe\">\n",
       "  <thead>\n",
       "    <tr style=\"text-align: right;\">\n",
       "      <th></th>\n",
       "      <th>IsBeta</th>\n",
       "      <th>RtpStateBitfield</th>\n",
       "      <th>IsSxsPassiveMode</th>\n",
       "      <th>AVProductStatesIdentifier</th>\n",
       "      <th>AVProductsInstalled</th>\n",
       "      <th>AVProductsEnabled</th>\n",
       "      <th>HasTpm</th>\n",
       "      <th>CountryIdentifier</th>\n",
       "      <th>CityIdentifier</th>\n",
       "      <th>GeoNameIdentifier</th>\n",
       "      <th>...</th>\n",
       "      <th>Census_ActivationChannel_Retail:TB:Eval</th>\n",
       "      <th>Census_ActivationChannel_Volume:GVLK</th>\n",
       "      <th>Census_ActivationChannel_Volume:MAK</th>\n",
       "      <th>Census_FlightRing_Disabled</th>\n",
       "      <th>Census_FlightRing_NOT_SET</th>\n",
       "      <th>Census_FlightRing_RP</th>\n",
       "      <th>Census_FlightRing_Retail</th>\n",
       "      <th>Census_FlightRing_Unknown</th>\n",
       "      <th>Census_FlightRing_WIF</th>\n",
       "      <th>Census_FlightRing_WIS</th>\n",
       "    </tr>\n",
       "  </thead>\n",
       "  <tbody>\n",
       "    <tr>\n",
       "      <th>0</th>\n",
       "      <td>0</td>\n",
       "      <td>7.0</td>\n",
       "      <td>0</td>\n",
       "      <td>53447.0</td>\n",
       "      <td>1.0</td>\n",
       "      <td>1.0</td>\n",
       "      <td>1</td>\n",
       "      <td>29</td>\n",
       "      <td>128035.0</td>\n",
       "      <td>35</td>\n",
       "      <td>...</td>\n",
       "      <td>0</td>\n",
       "      <td>0</td>\n",
       "      <td>0</td>\n",
       "      <td>0</td>\n",
       "      <td>0</td>\n",
       "      <td>0</td>\n",
       "      <td>1</td>\n",
       "      <td>0</td>\n",
       "      <td>0</td>\n",
       "      <td>0</td>\n",
       "    </tr>\n",
       "    <tr>\n",
       "      <th>1</th>\n",
       "      <td>0</td>\n",
       "      <td>7.0</td>\n",
       "      <td>0</td>\n",
       "      <td>53447.0</td>\n",
       "      <td>1.0</td>\n",
       "      <td>1.0</td>\n",
       "      <td>1</td>\n",
       "      <td>93</td>\n",
       "      <td>1482.0</td>\n",
       "      <td>119</td>\n",
       "      <td>...</td>\n",
       "      <td>0</td>\n",
       "      <td>0</td>\n",
       "      <td>0</td>\n",
       "      <td>0</td>\n",
       "      <td>1</td>\n",
       "      <td>0</td>\n",
       "      <td>0</td>\n",
       "      <td>0</td>\n",
       "      <td>0</td>\n",
       "      <td>0</td>\n",
       "    </tr>\n",
       "    <tr>\n",
       "      <th>2</th>\n",
       "      <td>0</td>\n",
       "      <td>7.0</td>\n",
       "      <td>0</td>\n",
       "      <td>53447.0</td>\n",
       "      <td>1.0</td>\n",
       "      <td>1.0</td>\n",
       "      <td>1</td>\n",
       "      <td>86</td>\n",
       "      <td>153579.0</td>\n",
       "      <td>64</td>\n",
       "      <td>...</td>\n",
       "      <td>0</td>\n",
       "      <td>0</td>\n",
       "      <td>0</td>\n",
       "      <td>0</td>\n",
       "      <td>0</td>\n",
       "      <td>0</td>\n",
       "      <td>1</td>\n",
       "      <td>0</td>\n",
       "      <td>0</td>\n",
       "      <td>0</td>\n",
       "    </tr>\n",
       "    <tr>\n",
       "      <th>3</th>\n",
       "      <td>0</td>\n",
       "      <td>7.0</td>\n",
       "      <td>0</td>\n",
       "      <td>53447.0</td>\n",
       "      <td>1.0</td>\n",
       "      <td>1.0</td>\n",
       "      <td>1</td>\n",
       "      <td>88</td>\n",
       "      <td>20710.0</td>\n",
       "      <td>117</td>\n",
       "      <td>...</td>\n",
       "      <td>0</td>\n",
       "      <td>0</td>\n",
       "      <td>0</td>\n",
       "      <td>0</td>\n",
       "      <td>0</td>\n",
       "      <td>0</td>\n",
       "      <td>1</td>\n",
       "      <td>0</td>\n",
       "      <td>0</td>\n",
       "      <td>0</td>\n",
       "    </tr>\n",
       "    <tr>\n",
       "      <th>4</th>\n",
       "      <td>0</td>\n",
       "      <td>7.0</td>\n",
       "      <td>0</td>\n",
       "      <td>53447.0</td>\n",
       "      <td>1.0</td>\n",
       "      <td>1.0</td>\n",
       "      <td>1</td>\n",
       "      <td>18</td>\n",
       "      <td>37376.0</td>\n",
       "      <td>277</td>\n",
       "      <td>...</td>\n",
       "      <td>0</td>\n",
       "      <td>0</td>\n",
       "      <td>0</td>\n",
       "      <td>0</td>\n",
       "      <td>0</td>\n",
       "      <td>0</td>\n",
       "      <td>1</td>\n",
       "      <td>0</td>\n",
       "      <td>0</td>\n",
       "      <td>0</td>\n",
       "    </tr>\n",
       "  </tbody>\n",
       "</table>\n",
       "<p>5 rows × 771 columns</p>\n",
       "</div>"
      ],
      "text/plain": [
       "   IsBeta  RtpStateBitfield  IsSxsPassiveMode  AVProductStatesIdentifier  \\\n",
       "0       0               7.0                 0                    53447.0   \n",
       "1       0               7.0                 0                    53447.0   \n",
       "2       0               7.0                 0                    53447.0   \n",
       "3       0               7.0                 0                    53447.0   \n",
       "4       0               7.0                 0                    53447.0   \n",
       "\n",
       "   AVProductsInstalled  AVProductsEnabled  HasTpm  CountryIdentifier  \\\n",
       "0                  1.0                1.0       1                 29   \n",
       "1                  1.0                1.0       1                 93   \n",
       "2                  1.0                1.0       1                 86   \n",
       "3                  1.0                1.0       1                 88   \n",
       "4                  1.0                1.0       1                 18   \n",
       "\n",
       "   CityIdentifier  GeoNameIdentifier          ...            \\\n",
       "0        128035.0                 35          ...             \n",
       "1          1482.0                119          ...             \n",
       "2        153579.0                 64          ...             \n",
       "3         20710.0                117          ...             \n",
       "4         37376.0                277          ...             \n",
       "\n",
       "   Census_ActivationChannel_Retail:TB:Eval  \\\n",
       "0                                        0   \n",
       "1                                        0   \n",
       "2                                        0   \n",
       "3                                        0   \n",
       "4                                        0   \n",
       "\n",
       "   Census_ActivationChannel_Volume:GVLK  Census_ActivationChannel_Volume:MAK  \\\n",
       "0                                     0                                    0   \n",
       "1                                     0                                    0   \n",
       "2                                     0                                    0   \n",
       "3                                     0                                    0   \n",
       "4                                     0                                    0   \n",
       "\n",
       "   Census_FlightRing_Disabled  Census_FlightRing_NOT_SET  \\\n",
       "0                           0                          0   \n",
       "1                           0                          1   \n",
       "2                           0                          0   \n",
       "3                           0                          0   \n",
       "4                           0                          0   \n",
       "\n",
       "   Census_FlightRing_RP  Census_FlightRing_Retail  Census_FlightRing_Unknown  \\\n",
       "0                     0                         1                          0   \n",
       "1                     0                         0                          0   \n",
       "2                     0                         1                          0   \n",
       "3                     0                         1                          0   \n",
       "4                     0                         1                          0   \n",
       "\n",
       "   Census_FlightRing_WIF  Census_FlightRing_WIS  \n",
       "0                      0                      0  \n",
       "1                      0                      0  \n",
       "2                      0                      0  \n",
       "3                      0                      0  \n",
       "4                      0                      0  \n",
       "\n",
       "[5 rows x 771 columns]"
      ]
     },
     "execution_count": 20,
     "metadata": {},
     "output_type": "execute_result"
    }
   ],
   "source": [
    "object_columns = list(df.select_dtypes(include=['object']))\n",
    "df_encoded = pd.get_dummies(df, prefix=object_columns)\n",
    "df_encoded.shape\n",
    "df_encoded.head(5)"
   ]
  },
  {
   "cell_type": "markdown",
   "metadata": {},
   "source": [
    "# PCA"
   ]
  },
  {
   "cell_type": "code",
   "execution_count": 22,
   "metadata": {},
   "outputs": [],
   "source": [
    "df_encoded.drop([\"HasDetections\"], axis=1, inplace=True)\n",
    "df_encoded.dropna(inplace = True)"
   ]
  },
  {
   "cell_type": "code",
   "execution_count": 24,
   "metadata": {},
   "outputs": [
    {
     "data": {
      "text/plain": [
       "(16100, 771)"
      ]
     },
     "execution_count": 24,
     "metadata": {},
     "output_type": "execute_result"
    }
   ],
   "source": [
    "df_encoded.shape"
   ]
  },
  {
   "cell_type": "code",
   "execution_count": 25,
   "metadata": {},
   "outputs": [
    {
     "data": {
      "text/html": [
       "<div>\n",
       "<style scoped>\n",
       "    .dataframe tbody tr th:only-of-type {\n",
       "        vertical-align: middle;\n",
       "    }\n",
       "\n",
       "    .dataframe tbody tr th {\n",
       "        vertical-align: top;\n",
       "    }\n",
       "\n",
       "    .dataframe thead th {\n",
       "        text-align: right;\n",
       "    }\n",
       "</style>\n",
       "<table border=\"1\" class=\"dataframe\">\n",
       "  <thead>\n",
       "    <tr style=\"text-align: right;\">\n",
       "      <th></th>\n",
       "      <th>IsBeta</th>\n",
       "      <th>RtpStateBitfield</th>\n",
       "      <th>IsSxsPassiveMode</th>\n",
       "      <th>AVProductStatesIdentifier</th>\n",
       "      <th>AVProductsInstalled</th>\n",
       "      <th>AVProductsEnabled</th>\n",
       "      <th>HasTpm</th>\n",
       "      <th>CountryIdentifier</th>\n",
       "      <th>CityIdentifier</th>\n",
       "      <th>GeoNameIdentifier</th>\n",
       "      <th>...</th>\n",
       "      <th>Census_ActivationChannel_Retail:TB:Eval</th>\n",
       "      <th>Census_ActivationChannel_Volume:GVLK</th>\n",
       "      <th>Census_ActivationChannel_Volume:MAK</th>\n",
       "      <th>Census_FlightRing_Disabled</th>\n",
       "      <th>Census_FlightRing_NOT_SET</th>\n",
       "      <th>Census_FlightRing_RP</th>\n",
       "      <th>Census_FlightRing_Retail</th>\n",
       "      <th>Census_FlightRing_Unknown</th>\n",
       "      <th>Census_FlightRing_WIF</th>\n",
       "      <th>Census_FlightRing_WIS</th>\n",
       "    </tr>\n",
       "  </thead>\n",
       "  <tbody>\n",
       "    <tr>\n",
       "      <th>0</th>\n",
       "      <td>0.0</td>\n",
       "      <td>0.147764</td>\n",
       "      <td>-0.016522</td>\n",
       "      <td>5470.303913</td>\n",
       "      <td>-0.324348</td>\n",
       "      <td>-0.015901</td>\n",
       "      <td>0.000994</td>\n",
       "      <td>-80.047826</td>\n",
       "      <td>46553.171801</td>\n",
       "      <td>-135.194845</td>\n",
       "      <td>...</td>\n",
       "      <td>0.0</td>\n",
       "      <td>-0.044037</td>\n",
       "      <td>-0.001304</td>\n",
       "      <td>-0.000311</td>\n",
       "      <td>-0.030248</td>\n",
       "      <td>-0.001118</td>\n",
       "      <td>0.058447</td>\n",
       "      <td>-0.023913</td>\n",
       "      <td>-0.001304</td>\n",
       "      <td>-0.001553</td>\n",
       "    </tr>\n",
       "  </tbody>\n",
       "</table>\n",
       "<p>1 rows × 771 columns</p>\n",
       "</div>"
      ],
      "text/plain": [
       "   IsBeta  RtpStateBitfield  IsSxsPassiveMode  AVProductStatesIdentifier  \\\n",
       "0     0.0          0.147764         -0.016522                5470.303913   \n",
       "\n",
       "   AVProductsInstalled  AVProductsEnabled    HasTpm  CountryIdentifier  \\\n",
       "0            -0.324348          -0.015901  0.000994         -80.047826   \n",
       "\n",
       "   CityIdentifier  GeoNameIdentifier          ...            \\\n",
       "0    46553.171801        -135.194845          ...             \n",
       "\n",
       "   Census_ActivationChannel_Retail:TB:Eval  \\\n",
       "0                                      0.0   \n",
       "\n",
       "   Census_ActivationChannel_Volume:GVLK  Census_ActivationChannel_Volume:MAK  \\\n",
       "0                             -0.044037                            -0.001304   \n",
       "\n",
       "   Census_FlightRing_Disabled  Census_FlightRing_NOT_SET  \\\n",
       "0                   -0.000311                  -0.030248   \n",
       "\n",
       "   Census_FlightRing_RP  Census_FlightRing_Retail  Census_FlightRing_Unknown  \\\n",
       "0             -0.001118                  0.058447                  -0.023913   \n",
       "\n",
       "   Census_FlightRing_WIF  Census_FlightRing_WIS  \n",
       "0              -0.001304              -0.001553  \n",
       "\n",
       "[1 rows x 771 columns]"
      ]
     },
     "execution_count": 25,
     "metadata": {},
     "output_type": "execute_result"
    }
   ],
   "source": [
    "df_encoded = df_encoded -df_encoded.mean()\n",
    "df_encoded.head(1)"
   ]
  },
  {
   "cell_type": "code",
   "execution_count": 26,
   "metadata": {},
   "outputs": [],
   "source": [
    "pca = PCA(n_components=20)"
   ]
  },
  {
   "cell_type": "code",
   "execution_count": 27,
   "metadata": {},
   "outputs": [
    {
     "data": {
      "text/plain": [
       "PCA(copy=True, iterated_power='auto', n_components=20, random_state=None,\n",
       "  svd_solver='auto', tol=0.0, whiten=False)"
      ]
     },
     "execution_count": 27,
     "metadata": {},
     "output_type": "execute_result"
    }
   ],
   "source": [
    "pca.fit(df_encoded)"
   ]
  },
  {
   "cell_type": "code",
   "execution_count": 28,
   "metadata": {},
   "outputs": [],
   "source": [
    "Xt = pca.transform(df_encoded)"
   ]
  },
  {
   "cell_type": "code",
   "execution_count": 29,
   "metadata": {},
   "outputs": [
    {
     "data": {
      "text/plain": [
       "(16100, 20)"
      ]
     },
     "execution_count": 29,
     "metadata": {},
     "output_type": "execute_result"
    }
   ],
   "source": [
    "Xt.shape"
   ]
  },
  {
   "cell_type": "code",
   "execution_count": 33,
   "metadata": {},
   "outputs": [
    {
     "data": {
      "text/plain": [
       "array([9.99999934e-01, 5.66300216e-08, 7.23682682e-09, 1.43511942e-09,\n",
       "       6.80416485e-10, 1.22654483e-10, 5.31522503e-11, 5.34980539e-12,\n",
       "       3.36101114e-12, 7.36765098e-13, 4.03001012e-13, 1.91583537e-13,\n",
       "       3.87238243e-14, 3.74137722e-14, 1.45542820e-14, 8.90056571e-15,\n",
       "       2.73249801e-15, 1.79376231e-15, 1.33944562e-15, 6.74282186e-16])"
      ]
     },
     "execution_count": 33,
     "metadata": {},
     "output_type": "execute_result"
    }
   ],
   "source": [
    "pca.explained_variance_ratio_"
   ]
  },
  {
   "cell_type": "code",
   "execution_count": 41,
   "metadata": {},
   "outputs": [
    {
     "data": {
      "text/plain": [
       "0.999999933831661"
      ]
     },
     "execution_count": 41,
     "metadata": {},
     "output_type": "execute_result"
    }
   ],
   "source": [
    "pca.explained_variance_ratio_[0].sum()"
   ]
  },
  {
   "cell_type": "code",
   "execution_count": null,
   "metadata": {},
   "outputs": [],
   "source": [
    "# alternative idea: keep all features, factorize or one-hot everything, then do pca and then neural network."
   ]
  }
 ],
 "metadata": {
  "kernelspec": {
   "display_name": "Python 3",
   "language": "python",
   "name": "python3"
  },
  "language_info": {
   "codemirror_mode": {
    "name": "ipython",
    "version": 3
   },
   "file_extension": ".py",
   "mimetype": "text/x-python",
   "name": "python",
   "nbconvert_exporter": "python",
   "pygments_lexer": "ipython3",
   "version": "3.6.7"
  }
 },
 "nbformat": 4,
 "nbformat_minor": 2
}
