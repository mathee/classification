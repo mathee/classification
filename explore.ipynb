{
 "cells": [
  {
   "cell_type": "code",
   "execution_count": 32,
   "metadata": {},
   "outputs": [],
   "source": [
    "import pandas as pd\n",
    "import seaborn as sns\n",
    "import matplotlib.pyplot as plt"
   ]
  },
  {
   "cell_type": "code",
   "execution_count": 64,
   "metadata": {},
   "outputs": [],
   "source": [
    "iter_csv = pd.read_csv('data/train.csv', iterator=True, chunksize=500000)\n",
    "#df = pd.concat([chunk[chunk['field'] > constant] for chunk in iter_csv])"
   ]
  },
  {
   "cell_type": "code",
   "execution_count": 65,
   "metadata": {},
   "outputs": [
    {
     "name": "stderr",
     "output_type": "stream",
     "text": [
      "C:\\ProgramData\\Anaconda3\\lib\\site-packages\\IPython\\core\\interactiveshell.py:2785: DtypeWarning: Columns (28) have mixed types. Specify dtype option on import or set low_memory=False.\n",
      "  interactivity=interactivity, compiler=compiler, result=result)\n"
     ]
    }
   ],
   "source": [
    "df = next(iter_csv)"
   ]
  },
  {
   "cell_type": "code",
   "execution_count": 66,
   "metadata": {},
   "outputs": [
    {
     "name": "stdout",
     "output_type": "stream",
     "text": [
      "<class 'pandas.core.frame.DataFrame'>\n",
      "RangeIndex: 500000 entries, 0 to 499999\n",
      "Data columns (total 83 columns):\n",
      "MachineIdentifier                                    500000 non-null object\n",
      "ProductName                                          500000 non-null object\n",
      "EngineVersion                                        500000 non-null object\n",
      "AppVersion                                           500000 non-null object\n",
      "AvSigVersion                                         500000 non-null object\n",
      "IsBeta                                               500000 non-null int64\n",
      "RtpStateBitfield                                     498126 non-null float64\n",
      "IsSxsPassiveMode                                     500000 non-null int64\n",
      "DefaultBrowsersIdentifier                            24302 non-null float64\n",
      "AVProductStatesIdentifier                            497969 non-null float64\n",
      "AVProductsInstalled                                  497969 non-null float64\n",
      "AVProductsEnabled                                    497969 non-null float64\n",
      "HasTpm                                               500000 non-null int64\n",
      "CountryIdentifier                                    500000 non-null int64\n",
      "CityIdentifier                                       481791 non-null float64\n",
      "OrganizationIdentifier                               345642 non-null float64\n",
      "GeoNameIdentifier                                    499997 non-null float64\n",
      "LocaleEnglishNameIdentifier                          500000 non-null int64\n",
      "Platform                                             500000 non-null object\n",
      "Processor                                            500000 non-null object\n",
      "OsVer                                                500000 non-null object\n",
      "OsBuild                                              500000 non-null int64\n",
      "OsSuite                                              500000 non-null int64\n",
      "OsPlatformSubRelease                                 500000 non-null object\n",
      "OsBuildLab                                           499999 non-null object\n",
      "SkuEdition                                           500000 non-null object\n",
      "IsProtected                                          497980 non-null float64\n",
      "AutoSampleOptIn                                      500000 non-null int64\n",
      "PuaMode                                              122 non-null object\n",
      "SMode                                                469942 non-null float64\n",
      "IeVerIdentifier                                      496625 non-null float64\n",
      "SmartScreen                                          321705 non-null object\n",
      "Firewall                                             494821 non-null float64\n",
      "UacLuaenable                                         499387 non-null float64\n",
      "Census_MDC2FormFactor                                500000 non-null object\n",
      "Census_DeviceFamily                                  500000 non-null object\n",
      "Census_OEMNameIdentifier                             494730 non-null float64\n",
      "Census_OEMModelIdentifier                            494342 non-null float64\n",
      "Census_ProcessorCoreCount                            497653 non-null float64\n",
      "Census_ProcessorManufacturerIdentifier               497653 non-null float64\n",
      "Census_ProcessorModelIdentifier                      497650 non-null float64\n",
      "Census_ProcessorClass                                2100 non-null object\n",
      "Census_PrimaryDiskTotalCapacity                      497034 non-null float64\n",
      "Census_PrimaryDiskTypeName                           499255 non-null object\n",
      "Census_SystemVolumeTotalCapacity                     497034 non-null float64\n",
      "Census_HasOpticalDiskDrive                           500000 non-null int64\n",
      "Census_TotalPhysicalRAM                              495470 non-null float64\n",
      "Census_ChassisTypeName                               499973 non-null object\n",
      "Census_InternalPrimaryDiagonalDisplaySizeInInches    497260 non-null float64\n",
      "Census_InternalPrimaryDisplayResolutionHorizontal    497266 non-null float64\n",
      "Census_InternalPrimaryDisplayResolutionVertical      497266 non-null float64\n",
      "Census_PowerPlatformRoleName                         499998 non-null object\n",
      "Census_InternalBatteryType                           144858 non-null object\n",
      "Census_InternalBatteryNumberOfCharges                484875 non-null float64\n",
      "Census_OSVersion                                     500000 non-null object\n",
      "Census_OSArchitecture                                500000 non-null object\n",
      "Census_OSBranch                                      500000 non-null object\n",
      "Census_OSBuildNumber                                 500000 non-null int64\n",
      "Census_OSBuildRevision                               500000 non-null int64\n",
      "Census_OSEdition                                     500000 non-null object\n",
      "Census_OSSkuName                                     500000 non-null object\n",
      "Census_OSInstallTypeName                             500000 non-null object\n",
      "Census_OSInstallLanguageIdentifier                   496682 non-null float64\n",
      "Census_OSUILocaleIdentifier                          500000 non-null int64\n",
      "Census_OSWUAutoUpdateOptionsName                     500000 non-null object\n",
      "Census_IsPortableOperatingSystem                     500000 non-null int64\n",
      "Census_GenuineStateName                              500000 non-null object\n",
      "Census_ActivationChannel                             500000 non-null object\n",
      "Census_IsFlightingInternal                           84845 non-null float64\n",
      "Census_IsFlightsDisabled                             491103 non-null float64\n",
      "Census_FlightRing                                    500000 non-null object\n",
      "Census_ThresholdOptIn                                182487 non-null float64\n",
      "Census_FirmwareManufacturerIdentifier                489740 non-null float64\n",
      "Census_FirmwareVersionIdentifier                     491044 non-null float64\n",
      "Census_IsSecureBootEnabled                           500000 non-null int64\n",
      "Census_IsWIMBootEnabled                              182927 non-null float64\n",
      "Census_IsVirtualDevice                               499090 non-null float64\n",
      "Census_IsTouchEnabled                                500000 non-null int64\n",
      "Census_IsPenCapable                                  500000 non-null int64\n",
      "Census_IsAlwaysOnAlwaysConnectedCapable              496026 non-null float64\n",
      "Wdft_IsGamer                                         482909 non-null float64\n",
      "Wdft_RegionIdentifier                                482909 non-null float64\n",
      "HasDetections                                        500000 non-null int64\n",
      "dtypes: float64(36), int64(17), object(30)\n",
      "memory usage: 316.6+ MB\n"
     ]
    }
   ],
   "source": [
    "df.info()"
   ]
  },
  {
   "cell_type": "code",
   "execution_count": 67,
   "metadata": {},
   "outputs": [],
   "source": [
    "corr = df.corr()"
   ]
  },
  {
   "cell_type": "code",
   "execution_count": 68,
   "metadata": {},
   "outputs": [
    {
     "data": {
      "text/plain": [
       "IsBeta                                              -0.001902\n",
       "RtpStateBitfield                                     0.039370\n",
       "IsSxsPassiveMode                                    -0.032781\n",
       "DefaultBrowsersIdentifier                            0.004231\n",
       "AVProductStatesIdentifier                            0.116608\n",
       "AVProductsInstalled                                 -0.149008\n",
       "AVProductsEnabled                                   -0.040758\n",
       "HasTpm                                               0.005039\n",
       "CountryIdentifier                                    0.006691\n",
       "CityIdentifier                                      -0.006220\n",
       "OrganizationIdentifier                               0.006061\n",
       "GeoNameIdentifier                                    0.004262\n",
       "LocaleEnglishNameIdentifier                          0.016656\n",
       "OsBuild                                              0.025897\n",
       "OsSuite                                             -0.021476\n",
       "IsProtected                                          0.056487\n",
       "AutoSampleOptIn                                     -0.001520\n",
       "SMode                                               -0.015284\n",
       "IeVerIdentifier                                      0.016231\n",
       "Firewall                                             0.001841\n",
       "UacLuaenable                                         0.001925\n",
       "Census_OEMNameIdentifier                            -0.013744\n",
       "Census_OEMModelIdentifier                           -0.002558\n",
       "Census_ProcessorCoreCount                            0.052664\n",
       "Census_ProcessorManufacturerIdentifier               0.004756\n",
       "Census_ProcessorModelIdentifier                      0.020868\n",
       "Census_PrimaryDiskTotalCapacity                      0.052635\n",
       "Census_SystemVolumeTotalCapacity                     0.017428\n",
       "Census_HasOpticalDiskDrive                           0.018352\n",
       "Census_TotalPhysicalRAM                              0.053012\n",
       "Census_InternalPrimaryDiagonalDisplaySizeInInches    0.034304\n",
       "Census_InternalPrimaryDisplayResolutionHorizontal    0.031113\n",
       "Census_InternalPrimaryDisplayResolutionVertical      0.013151\n",
       "Census_InternalBatteryNumberOfCharges                0.020436\n",
       "Census_OSBuildNumber                                 0.030764\n",
       "Census_OSBuildRevision                              -0.009264\n",
       "Census_OSInstallLanguageIdentifier                   0.001658\n",
       "Census_OSUILocaleIdentifier                          0.000629\n",
       "Census_IsPortableOperatingSystem                     0.001865\n",
       "Census_IsFlightingInternal                          -0.003336\n",
       "Census_IsFlightsDisabled                            -0.002857\n",
       "Census_ThresholdOptIn                                0.000554\n",
       "Census_FirmwareManufacturerIdentifier               -0.026787\n",
       "Census_FirmwareVersionIdentifier                    -0.002036\n",
       "Census_IsSecureBootEnabled                          -0.001304\n",
       "Census_IsWIMBootEnabled                                   NaN\n",
       "Census_IsVirtualDevice                              -0.052349\n",
       "Census_IsTouchEnabled                               -0.041693\n",
       "Census_IsPenCapable                                 -0.016252\n",
       "Census_IsAlwaysOnAlwaysConnectedCapable             -0.063979\n",
       "Wdft_IsGamer                                         0.053450\n",
       "Wdft_RegionIdentifier                               -0.020913\n",
       "HasDetections                                        1.000000\n",
       "Name: HasDetections, dtype: float64"
      ]
     },
     "execution_count": 68,
     "metadata": {},
     "output_type": "execute_result"
    }
   ],
   "source": [
    "corr[\"HasDetections\"]"
   ]
  },
  {
   "cell_type": "code",
   "execution_count": 69,
   "metadata": {},
   "outputs": [],
   "source": [
    "# plt.figure(figsize=(15, 8))\n",
    "# sns.heatmap(corr, xticklabels=corr.columns.values, yticklabels=corr.columns.values, annot = True)"
   ]
  },
  {
   "cell_type": "code",
   "execution_count": null,
   "metadata": {},
   "outputs": [],
   "source": []
  }
 ],
 "metadata": {
  "kernelspec": {
   "display_name": "Python 3",
   "language": "python",
   "name": "python3"
  },
  "language_info": {
   "codemirror_mode": {
    "name": "ipython",
    "version": 3
   },
   "file_extension": ".py",
   "mimetype": "text/x-python",
   "name": "python",
   "nbconvert_exporter": "python",
   "pygments_lexer": "ipython3",
   "version": "3.6.6"
  }
 },
 "nbformat": 4,
 "nbformat_minor": 2
}
