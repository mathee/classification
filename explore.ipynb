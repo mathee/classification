{
 "cells": [
  {
   "cell_type": "code",
   "execution_count": 1,
   "metadata": {},
   "outputs": [],
   "source": [
    "import pandas as pd\n",
    "import seaborn as sns\n",
    "import matplotlib.pyplot as plt"
   ]
  },
  {
   "cell_type": "code",
   "execution_count": 2,
   "metadata": {},
   "outputs": [],
   "source": [
    "iter_csv = pd.read_csv('data/train.csv', iterator=True, chunksize=50000)\n",
    "#df = pd.concat([chunk[chunk['field'] > constant] for chunk in iter_csv])"
   ]
  },
  {
   "cell_type": "code",
   "execution_count": 3,
   "metadata": {},
   "outputs": [
    {
     "name": "stderr",
     "output_type": "stream",
     "text": [
      "C:\\ProgramData\\Anaconda3\\lib\\site-packages\\IPython\\core\\interactiveshell.py:2785: DtypeWarning: Columns (28) have mixed types. Specify dtype option on import or set low_memory=False.\n",
      "  interactivity=interactivity, compiler=compiler, result=result)\n"
     ]
    }
   ],
   "source": [
    "df = next(iter_csv)"
   ]
  },
  {
   "cell_type": "code",
   "execution_count": 4,
   "metadata": {},
   "outputs": [
    {
     "name": "stdout",
     "output_type": "stream",
     "text": [
      "<class 'pandas.core.frame.DataFrame'>\n",
      "RangeIndex: 50000 entries, 0 to 49999\n",
      "Data columns (total 83 columns):\n",
      "MachineIdentifier                                    50000 non-null object\n",
      "ProductName                                          50000 non-null object\n",
      "EngineVersion                                        50000 non-null object\n",
      "AppVersion                                           50000 non-null object\n",
      "AvSigVersion                                         50000 non-null object\n",
      "IsBeta                                               50000 non-null int64\n",
      "RtpStateBitfield                                     49825 non-null float64\n",
      "IsSxsPassiveMode                                     50000 non-null int64\n",
      "DefaultBrowsersIdentifier                            2437 non-null float64\n",
      "AVProductStatesIdentifier                            49809 non-null float64\n",
      "AVProductsInstalled                                  49809 non-null float64\n",
      "AVProductsEnabled                                    49809 non-null float64\n",
      "HasTpm                                               50000 non-null int64\n",
      "CountryIdentifier                                    50000 non-null int64\n",
      "CityIdentifier                                       48173 non-null float64\n",
      "OrganizationIdentifier                               34719 non-null float64\n",
      "GeoNameIdentifier                                    49999 non-null float64\n",
      "LocaleEnglishNameIdentifier                          50000 non-null int64\n",
      "Platform                                             50000 non-null object\n",
      "Processor                                            50000 non-null object\n",
      "OsVer                                                50000 non-null object\n",
      "OsBuild                                              50000 non-null int64\n",
      "OsSuite                                              50000 non-null int64\n",
      "OsPlatformSubRelease                                 50000 non-null object\n",
      "OsBuildLab                                           50000 non-null object\n",
      "SkuEdition                                           50000 non-null object\n",
      "IsProtected                                          49810 non-null float64\n",
      "AutoSampleOptIn                                      50000 non-null int64\n",
      "PuaMode                                              16 non-null object\n",
      "SMode                                                47025 non-null float64\n",
      "IeVerIdentifier                                      49667 non-null float64\n",
      "SmartScreen                                          32120 non-null object\n",
      "Firewall                                             49447 non-null float64\n",
      "UacLuaenable                                         49942 non-null float64\n",
      "Census_MDC2FormFactor                                50000 non-null object\n",
      "Census_DeviceFamily                                  50000 non-null object\n",
      "Census_OEMNameIdentifier                             49430 non-null float64\n",
      "Census_OEMModelIdentifier                            49374 non-null float64\n",
      "Census_ProcessorCoreCount                            49760 non-null float64\n",
      "Census_ProcessorManufacturerIdentifier               49760 non-null float64\n",
      "Census_ProcessorModelIdentifier                      49759 non-null float64\n",
      "Census_ProcessorClass                                210 non-null object\n",
      "Census_PrimaryDiskTotalCapacity                      49686 non-null float64\n",
      "Census_PrimaryDiskTypeName                           49917 non-null object\n",
      "Census_SystemVolumeTotalCapacity                     49686 non-null float64\n",
      "Census_HasOpticalDiskDrive                           50000 non-null int64\n",
      "Census_TotalPhysicalRAM                              49536 non-null float64\n",
      "Census_ChassisTypeName                               49998 non-null object\n",
      "Census_InternalPrimaryDiagonalDisplaySizeInInches    49730 non-null float64\n",
      "Census_InternalPrimaryDisplayResolutionHorizontal    49730 non-null float64\n",
      "Census_InternalPrimaryDisplayResolutionVertical      49730 non-null float64\n",
      "Census_PowerPlatformRoleName                         50000 non-null object\n",
      "Census_InternalBatteryType                           14369 non-null object\n",
      "Census_InternalBatteryNumberOfCharges                48461 non-null float64\n",
      "Census_OSVersion                                     50000 non-null object\n",
      "Census_OSArchitecture                                50000 non-null object\n",
      "Census_OSBranch                                      50000 non-null object\n",
      "Census_OSBuildNumber                                 50000 non-null int64\n",
      "Census_OSBuildRevision                               50000 non-null int64\n",
      "Census_OSEdition                                     50000 non-null object\n",
      "Census_OSSkuName                                     50000 non-null object\n",
      "Census_OSInstallTypeName                             50000 non-null object\n",
      "Census_OSInstallLanguageIdentifier                   49645 non-null float64\n",
      "Census_OSUILocaleIdentifier                          50000 non-null int64\n",
      "Census_OSWUAutoUpdateOptionsName                     50000 non-null object\n",
      "Census_IsPortableOperatingSystem                     50000 non-null int64\n",
      "Census_GenuineStateName                              50000 non-null object\n",
      "Census_ActivationChannel                             50000 non-null object\n",
      "Census_IsFlightingInternal                           8426 non-null float64\n",
      "Census_IsFlightsDisabled                             49082 non-null float64\n",
      "Census_FlightRing                                    50000 non-null object\n",
      "Census_ThresholdOptIn                                18142 non-null float64\n",
      "Census_FirmwareManufacturerIdentifier                48935 non-null float64\n",
      "Census_FirmwareVersionIdentifier                     49058 non-null float64\n",
      "Census_IsSecureBootEnabled                           50000 non-null int64\n",
      "Census_IsWIMBootEnabled                              18187 non-null float64\n",
      "Census_IsVirtualDevice                               49924 non-null float64\n",
      "Census_IsTouchEnabled                                50000 non-null int64\n",
      "Census_IsPenCapable                                  50000 non-null int64\n",
      "Census_IsAlwaysOnAlwaysConnectedCapable              49560 non-null float64\n",
      "Wdft_IsGamer                                         48304 non-null float64\n",
      "Wdft_RegionIdentifier                                48304 non-null float64\n",
      "HasDetections                                        50000 non-null int64\n",
      "dtypes: float64(36), int64(17), object(30)\n",
      "memory usage: 31.7+ MB\n"
     ]
    }
   ],
   "source": [
    "df.info()"
   ]
  },
  {
   "cell_type": "code",
   "execution_count": 6,
   "metadata": {},
   "outputs": [
    {
     "ename": "TypeError",
     "evalue": "cannot convert the series to <class 'int'>",
     "output_type": "error",
     "traceback": [
      "\u001b[1;31m---------------------------------------------------------------------------\u001b[0m",
      "\u001b[1;31mTypeError\u001b[0m                                 Traceback (most recent call last)",
      "\u001b[1;32m<ipython-input-6-f594c061a089>\u001b[0m in \u001b[0;36m<module>\u001b[1;34m()\u001b[0m\n\u001b[1;32m----> 1\u001b[1;33m \u001b[0mdf\u001b[0m\u001b[1;33m[\u001b[0m\u001b[1;34m\"HasDetections\"\u001b[0m\u001b[1;33m]\u001b[0m \u001b[1;33m=\u001b[0m \u001b[0mint\u001b[0m\u001b[1;33m(\u001b[0m\u001b[0mdf\u001b[0m\u001b[1;33m[\u001b[0m\u001b[1;34m\"HasDetections\"\u001b[0m\u001b[1;33m]\u001b[0m\u001b[1;33m)\u001b[0m\u001b[1;33m\u001b[0m\u001b[0m\n\u001b[0m",
      "\u001b[1;32mC:\\ProgramData\\Anaconda3\\lib\\site-packages\\pandas\\core\\series.py\u001b[0m in \u001b[0;36mwrapper\u001b[1;34m(self)\u001b[0m\n\u001b[0;32m    116\u001b[0m             \u001b[1;32mreturn\u001b[0m \u001b[0mconverter\u001b[0m\u001b[1;33m(\u001b[0m\u001b[0mself\u001b[0m\u001b[1;33m.\u001b[0m\u001b[0miloc\u001b[0m\u001b[1;33m[\u001b[0m\u001b[1;36m0\u001b[0m\u001b[1;33m]\u001b[0m\u001b[1;33m)\u001b[0m\u001b[1;33m\u001b[0m\u001b[0m\n\u001b[0;32m    117\u001b[0m         raise TypeError(\"cannot convert the series to \"\n\u001b[1;32m--> 118\u001b[1;33m                         \"{0}\".format(str(converter)))\n\u001b[0m\u001b[0;32m    119\u001b[0m \u001b[1;33m\u001b[0m\u001b[0m\n\u001b[0;32m    120\u001b[0m     \u001b[1;32mreturn\u001b[0m \u001b[0mwrapper\u001b[0m\u001b[1;33m\u001b[0m\u001b[0m\n",
      "\u001b[1;31mTypeError\u001b[0m: cannot convert the series to <class 'int'>"
     ]
    }
   ],
   "source": [
    "df[\"HasDetections\"] = int(df[\"HasDetections\"])"
   ]
  },
  {
   "cell_type": "code",
   "execution_count": 67,
   "metadata": {},
   "outputs": [],
   "source": [
    "corr = df.corr()"
   ]
  },
  {
   "cell_type": "code",
   "execution_count": 68,
   "metadata": {},
   "outputs": [
    {
     "data": {
      "text/plain": [
       "IsBeta                                              -0.001902\n",
       "RtpStateBitfield                                     0.039370\n",
       "IsSxsPassiveMode                                    -0.032781\n",
       "DefaultBrowsersIdentifier                            0.004231\n",
       "AVProductStatesIdentifier                            0.116608\n",
       "AVProductsInstalled                                 -0.149008\n",
       "AVProductsEnabled                                   -0.040758\n",
       "HasTpm                                               0.005039\n",
       "CountryIdentifier                                    0.006691\n",
       "CityIdentifier                                      -0.006220\n",
       "OrganizationIdentifier                               0.006061\n",
       "GeoNameIdentifier                                    0.004262\n",
       "LocaleEnglishNameIdentifier                          0.016656\n",
       "OsBuild                                              0.025897\n",
       "OsSuite                                             -0.021476\n",
       "IsProtected                                          0.056487\n",
       "AutoSampleOptIn                                     -0.001520\n",
       "SMode                                               -0.015284\n",
       "IeVerIdentifier                                      0.016231\n",
       "Firewall                                             0.001841\n",
       "UacLuaenable                                         0.001925\n",
       "Census_OEMNameIdentifier                            -0.013744\n",
       "Census_OEMModelIdentifier                           -0.002558\n",
       "Census_ProcessorCoreCount                            0.052664\n",
       "Census_ProcessorManufacturerIdentifier               0.004756\n",
       "Census_ProcessorModelIdentifier                      0.020868\n",
       "Census_PrimaryDiskTotalCapacity                      0.052635\n",
       "Census_SystemVolumeTotalCapacity                     0.017428\n",
       "Census_HasOpticalDiskDrive                           0.018352\n",
       "Census_TotalPhysicalRAM                              0.053012\n",
       "Census_InternalPrimaryDiagonalDisplaySizeInInches    0.034304\n",
       "Census_InternalPrimaryDisplayResolutionHorizontal    0.031113\n",
       "Census_InternalPrimaryDisplayResolutionVertical      0.013151\n",
       "Census_InternalBatteryNumberOfCharges                0.020436\n",
       "Census_OSBuildNumber                                 0.030764\n",
       "Census_OSBuildRevision                              -0.009264\n",
       "Census_OSInstallLanguageIdentifier                   0.001658\n",
       "Census_OSUILocaleIdentifier                          0.000629\n",
       "Census_IsPortableOperatingSystem                     0.001865\n",
       "Census_IsFlightingInternal                          -0.003336\n",
       "Census_IsFlightsDisabled                            -0.002857\n",
       "Census_ThresholdOptIn                                0.000554\n",
       "Census_FirmwareManufacturerIdentifier               -0.026787\n",
       "Census_FirmwareVersionIdentifier                    -0.002036\n",
       "Census_IsSecureBootEnabled                          -0.001304\n",
       "Census_IsWIMBootEnabled                                   NaN\n",
       "Census_IsVirtualDevice                              -0.052349\n",
       "Census_IsTouchEnabled                               -0.041693\n",
       "Census_IsPenCapable                                 -0.016252\n",
       "Census_IsAlwaysOnAlwaysConnectedCapable             -0.063979\n",
       "Wdft_IsGamer                                         0.053450\n",
       "Wdft_RegionIdentifier                               -0.020913\n",
       "HasDetections                                        1.000000\n",
       "Name: HasDetections, dtype: float64"
      ]
     },
     "execution_count": 68,
     "metadata": {},
     "output_type": "execute_result"
    }
   ],
   "source": [
    "corr[\"HasDetections\"]"
   ]
  },
  {
   "cell_type": "code",
   "execution_count": 69,
   "metadata": {},
   "outputs": [],
   "source": [
    "# plt.figure(figsize=(15, 8))\n",
    "# sns.heatmap(corr, xticklabels=corr.columns.values, yticklabels=corr.columns.values, annot = True)"
   ]
  },
  {
   "cell_type": "code",
   "execution_count": null,
   "metadata": {},
   "outputs": [],
   "source": []
  }
 ],
 "metadata": {
  "kernelspec": {
   "display_name": "Python 3",
   "language": "python",
   "name": "python3"
  },
  "language_info": {
   "codemirror_mode": {
    "name": "ipython",
    "version": 3
   },
   "file_extension": ".py",
   "mimetype": "text/x-python",
   "name": "python",
   "nbconvert_exporter": "python",
   "pygments_lexer": "ipython3",
   "version": "3.6.6"
  }
 },
 "nbformat": 4,
 "nbformat_minor": 2
}
